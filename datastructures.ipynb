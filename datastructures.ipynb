{
 "cells": [
  {
   "cell_type": "markdown",
   "metadata": {},
   "source": [
    "## Linked lists"
   ]
  },
  {
   "cell_type": "markdown",
   "metadata": {},
   "source": [
    "#### Creating a linked list"
   ]
  },
  {
   "cell_type": "code",
   "execution_count": 2,
   "metadata": {},
   "outputs": [
    {
     "name": "stdout",
     "output_type": "stream",
     "text": [
      "<__main__.linkedlist object at 0x7f482044f7b8>\n"
     ]
    }
   ],
   "source": [
    "class node:\n",
    "    def __init__(self, datavalue = None):\n",
    "        self.datavalue = datavalue\n",
    "        self.nextvalue = None\n",
    "        \n",
    "class linkedlist:\n",
    "    def __init__(self):\n",
    "        self.headvalue = None\n",
    "        \n",
    "list1 = linkedlist()\n",
    "list1.headvalue = node(\"Mon\")\n",
    "e2 = node(\"Tue\")\n",
    "e3 = node(\"Wed\")\n",
    "\n",
    "list1.headvalue.nextvalue = e2\n",
    "e2.nextvalue  = e3"
   ]
  },
  {
   "cell_type": "markdown",
   "metadata": {},
   "source": [
    "#### Traversing a linked list1"
   ]
  },
  {
   "cell_type": "code",
   "execution_count": 6,
   "metadata": {},
   "outputs": [
    {
     "name": "stdout",
     "output_type": "stream",
     "text": [
      "Mon\n",
      "Tue\n",
      "Wed\n"
     ]
    }
   ],
   "source": [
    "class node:\n",
    "    def __init__(self, datavalue = None):\n",
    "        self.datavalue = datavalue\n",
    "        self.nextvalue = None\n",
    "\n",
    "class linkedlist:\n",
    "    def __init__(self):\n",
    "        self.headvalue = None\n",
    "        \n",
    "    def printlist(self):\n",
    "        printvalue = self.headvalue\n",
    "        while printvalue is not None:\n",
    "            print(printvalue.datavalue)\n",
    "            printvalue = printvalue.nextvalue\n",
    "            \n",
    "list1 = linkedlist()\n",
    "list1.headvalue = node(\"Mon\")\n",
    "e2 = node(\"Tue\")\n",
    "e3 = node(\"Wed\")\n",
    "\n",
    "list1.headvalue.nextvalue = e2\n",
    "e2.nextvalue  = e3\n",
    "list1.printlist()"
   ]
  },
  {
   "cell_type": "markdown",
   "metadata": {},
   "source": [
    "#### Insertion at the beginning"
   ]
  },
  {
   "cell_type": "code",
   "execution_count": 7,
   "metadata": {},
   "outputs": [
    {
     "name": "stdout",
     "output_type": "stream",
     "text": [
      "Sun\n",
      "Mon\n",
      "Tue\n",
      "Wed\n"
     ]
    }
   ],
   "source": [
    "class node:\n",
    "    def __init__(self, datavalue = None):\n",
    "        self.datavalue = datavalue\n",
    "        self.nextvalue = None\n",
    "\n",
    "class linkedlist:\n",
    "    def __init__(self):\n",
    "        self.headvalue = None\n",
    "        \n",
    "    def printlist(self):\n",
    "        printvalue = self.headvalue\n",
    "        while printvalue is not None:\n",
    "            print(printvalue.datavalue)\n",
    "            printvalue = printvalue.nextvalue\n",
    "            \n",
    "    def atbeginning(self, newdata):\n",
    "        newnode = node(newdata)\n",
    "        \n",
    "        newnode.nextvalue = self.headvalue\n",
    "        self.headvalue = newnode\n",
    "        \n",
    "list1 = linkedlist()\n",
    "list1.headvalue = node(\"Mon\")\n",
    "e2 = node(\"Tue\")\n",
    "e3 = node(\"Wed\")\n",
    "\n",
    "list1.headvalue.nextvalue = e2\n",
    "e2.nextvalue  = e3\n",
    "\n",
    "list1.atbeginning(\"Sun\")\n",
    "list1.printlist()\n",
    "        "
   ]
  },
  {
   "cell_type": "markdown",
   "metadata": {},
   "source": [
    "#### Insertion at last"
   ]
  },
  {
   "cell_type": "code",
   "execution_count": 8,
   "metadata": {},
   "outputs": [
    {
     "name": "stdout",
     "output_type": "stream",
     "text": [
      "Mon\n",
      "Tue\n",
      "Wed\n",
      "Thu\n"
     ]
    }
   ],
   "source": [
    "class node:\n",
    "    def __init__(self, datavalue = None):\n",
    "        self.datavalue = datavalue\n",
    "        self.nextvalue = None\n",
    "\n",
    "class linkedlist:\n",
    "    def __init__(self):\n",
    "        self.headvalue = None\n",
    "        \n",
    "    def printlist(self):\n",
    "        printvalue = self.headvalue\n",
    "        while printvalue is not None:\n",
    "            print(printvalue.datavalue)\n",
    "            printvalue = printvalue.nextvalue\n",
    "                \n",
    "    def atend(self, newdata):\n",
    "        newnode = node(newdata)\n",
    "        if self.headvalue is None:\n",
    "            self.headvalue = newnode\n",
    "            return\n",
    "        last = self.headvalue\n",
    "        while(last.nextvalue):\n",
    "            last = last.nextvalue\n",
    "        last.nextvalue = newnode\n",
    "        \n",
    "list1 = linkedlist()\n",
    "list1.headvalue = node(\"Mon\")\n",
    "e2 = node(\"Tue\")\n",
    "e3 = node(\"Wed\")\n",
    "\n",
    "list1.headvalue.nextvalue = e2\n",
    "e2.nextvalue  = e3\n",
    "\n",
    "list1.atend(\"Thu\")\n",
    "list1.printlist()\n",
    "        \n"
   ]
  },
  {
   "cell_type": "markdown",
   "metadata": {},
   "source": [
    "#### Insertion at mid"
   ]
  },
  {
   "cell_type": "code",
   "execution_count": 9,
   "metadata": {},
   "outputs": [
    {
     "name": "stdout",
     "output_type": "stream",
     "text": [
      "Mon\n",
      "Tue\n",
      "Wed\n",
      "Thu\n"
     ]
    }
   ],
   "source": [
    "class node:\n",
    "    def __init__(self, datavalue = None):\n",
    "        self.datavalue = datavalue\n",
    "        self.nextvalue = None\n",
    "\n",
    "class linkedlist:\n",
    "    def __init__(self):\n",
    "        self.headvalue = None\n",
    "        \n",
    "    def printlist(self):\n",
    "        printvalue = self.headvalue\n",
    "        while printvalue is not None:\n",
    "            print(printvalue.datavalue)\n",
    "            printvalue = printvalue.nextvalue\n",
    "                \n",
    "    def inbetween(self, middlenode, newdata):\n",
    "        if middlenode is None:\n",
    "            print(\"The mentioned node is absent\")\n",
    "            return\n",
    "        \n",
    "        newnode = node(newdata)\n",
    "        newnode.nextvalue = middlenode.nextvalue\n",
    "        middlenode.nextvalue = newnode\n",
    "        \n",
    "list1 = linkedlist()\n",
    "list1.headvalue = node(\"Mon\")\n",
    "e2 = node(\"Tue\")\n",
    "e3 = node(\"Thu\")\n",
    "\n",
    "list1.headvalue.nextvalue = e2\n",
    "e2.nextvalue  = e3\n",
    "\n",
    "list1.inbetween(list1.headvalue.nextvalue, \"Wed\")\n",
    "list1.printlist()\n",
    "        \n"
   ]
  },
  {
   "cell_type": "markdown",
   "metadata": {},
   "source": [
    "## Stack"
   ]
  },
  {
   "cell_type": "markdown",
   "metadata": {},
   "source": [
    "#### Push into Stack"
   ]
  },
  {
   "cell_type": "code",
   "execution_count": 12,
   "metadata": {},
   "outputs": [
    {
     "name": "stdout",
     "output_type": "stream",
     "text": [
      "Mon\n",
      "Mon\n"
     ]
    }
   ],
   "source": [
    "class Stack:\n",
    "\n",
    "    def __init__(self):\n",
    "        self.stack = []\n",
    "\n",
    "    def add(self, datavalue):\n",
    "\n",
    "        if datavalue not in self.stack:\n",
    "            self.stack.append(datavalue)\n",
    "            return True\n",
    "        else:\n",
    "            return False\n",
    "\n",
    "    def peek(self):     \n",
    "\t    return self.stack[0]\n",
    "\n",
    "a = Stack()\n",
    "a.add(\"Mon\")\n",
    "a.add(\"Tue\")\n",
    "a.peek()\n",
    "print(a.peek())\n",
    "a.add(\"Wed\")\n",
    "a.add(\"Thu\")\n",
    "a.peek()\n",
    "print(a.peek())\n"
   ]
  },
  {
   "cell_type": "markdown",
   "metadata": {},
   "source": [
    "#### Pop from stack"
   ]
  },
  {
   "cell_type": "code",
   "execution_count": 15,
   "metadata": {},
   "outputs": [
    {
     "name": "stdout",
     "output_type": "stream",
     "text": [
      "Tue\n",
      "Thu\n"
     ]
    }
   ],
   "source": [
    "class Stack:\n",
    "\n",
    "    def __init__(self):\n",
    "        self.stack = []\n",
    "\n",
    "    def add(self, dataval):\n",
    "\n",
    "        if dataval not in self.stack:\n",
    "            self.stack.append(dataval)\n",
    "            return True\n",
    "        else:\n",
    "            return False\n",
    "        \n",
    "    def remove(self):\n",
    "        if len(self.stack) <= 0:\n",
    "            return (\"No element in the Stack\")\n",
    "        else:\n",
    "            return self.stack.pop()\n",
    "\n",
    "a = Stack()\n",
    "a.add(\"Mon\")\n",
    "a.add(\"Tue\")\n",
    "print(a.remove())\n",
    "a.add(\"Wed\")\n",
    "a.add(\"Thu\")\n",
    "print(a.remove())\n"
   ]
  },
  {
   "cell_type": "markdown",
   "metadata": {},
   "source": [
    "## BST"
   ]
  },
  {
   "cell_type": "code",
   "execution_count": 1,
   "metadata": {},
   "outputs": [
    {
     "ename": "NameError",
     "evalue": "name 'insertion' is not defined",
     "output_type": "error",
     "traceback": [
      "\u001b[0;31m---------------------------------------------------------------------------\u001b[0m",
      "\u001b[0;31mNameError\u001b[0m                                 Traceback (most recent call last)",
      "\u001b[0;32m<ipython-input-1-471df6867d88>\u001b[0m in \u001b[0;36m<module>\u001b[0;34m()\u001b[0m\n\u001b[1;32m     26\u001b[0m \u001b[0;34m\u001b[0m\u001b[0m\n\u001b[1;32m     27\u001b[0m \u001b[0mr\u001b[0m \u001b[0;34m=\u001b[0m \u001b[0mNode\u001b[0m\u001b[0;34m(\u001b[0m\u001b[0;36m50\u001b[0m\u001b[0;34m)\u001b[0m\u001b[0;34m\u001b[0m\u001b[0m\n\u001b[0;32m---> 28\u001b[0;31m \u001b[0minsertion\u001b[0m\u001b[0;34m(\u001b[0m\u001b[0mr\u001b[0m\u001b[0;34m,\u001b[0m\u001b[0mNode\u001b[0m\u001b[0;34m(\u001b[0m\u001b[0;36m30\u001b[0m\u001b[0;34m)\u001b[0m\u001b[0;34m)\u001b[0m\u001b[0;34m\u001b[0m\u001b[0m\n\u001b[0m\u001b[1;32m     29\u001b[0m \u001b[0minsertion\u001b[0m\u001b[0;34m(\u001b[0m\u001b[0mr\u001b[0m\u001b[0;34m,\u001b[0m\u001b[0mNode\u001b[0m\u001b[0;34m(\u001b[0m\u001b[0;36m20\u001b[0m\u001b[0;34m)\u001b[0m\u001b[0;34m)\u001b[0m\u001b[0;34m\u001b[0m\u001b[0m\n\u001b[1;32m     30\u001b[0m \u001b[0minsertion\u001b[0m\u001b[0;34m(\u001b[0m\u001b[0mr\u001b[0m\u001b[0;34m,\u001b[0m\u001b[0mNode\u001b[0m\u001b[0;34m(\u001b[0m\u001b[0;36m40\u001b[0m\u001b[0;34m)\u001b[0m\u001b[0;34m)\u001b[0m\u001b[0;34m\u001b[0m\u001b[0m\n",
      "\u001b[0;31mNameError\u001b[0m: name 'insertion' is not defined"
     ]
    }
   ],
   "source": [
    "class Node:\n",
    "    def __init__(self, key):\n",
    "        self.left = None\n",
    "        self.right = None\n",
    "        self.val = key\n",
    "        \n",
    "    def insertion(root, data):\n",
    "        if root is None:\n",
    "            root = data\n",
    "        else:\n",
    "            if root.val < data.val:\n",
    "                if root.right is None:\n",
    "                    root.right = data\n",
    "                else:\n",
    "                    insertion(root.right, data)\n",
    "            else:\n",
    "                if root.left is None:\n",
    "                    root.left = data\n",
    "                else:\n",
    "                    insertion(root.left, data)\n",
    "    def inorder(root): \n",
    "        if root: \n",
    "            inorder(root.left) \n",
    "            print(root.val) \n",
    "            inorder(root.right)\n",
    "            \n",
    "r = Node(50) \n",
    "insertion(r,Node(30)) \n",
    "insertion(r,Node(20)) \n",
    "insertion(r,Node(40)) \n",
    "insertion(r,Node(70)) \n",
    "insertion(r,Node(60)) \n",
    "insertion(r,Node(80)) \n",
    "  \n",
    "inorder(r) "
   ]
  },
  {
   "cell_type": "code",
   "execution_count": null,
   "metadata": {},
   "outputs": [],
   "source": []
  }
 ],
 "metadata": {
  "kernelspec": {
   "display_name": "Python 3",
   "language": "python",
   "name": "python3"
  },
  "language_info": {
   "codemirror_mode": {
    "name": "ipython",
    "version": 3
   },
   "file_extension": ".py",
   "mimetype": "text/x-python",
   "name": "python",
   "nbconvert_exporter": "python",
   "pygments_lexer": "ipython3",
   "version": "3.6.6"
  }
 },
 "nbformat": 4,
 "nbformat_minor": 2
}
